{
 "cells": [
  {
   "attachments": {},
   "cell_type": "markdown",
   "metadata": {},
   "source": [
    "# Reverb Filter Listings\n",
    "\n",
    "Imports a template csv file of Reverb product listings and filters out select products."
   ]
  },
  {
   "cell_type": "code",
   "execution_count": 1,
   "metadata": {},
   "outputs": [],
   "source": [
    "import pandas as pd"
   ]
  },
  {
   "cell_type": "code",
   "execution_count": 3,
   "metadata": {},
   "outputs": [],
   "source": [
    "df = pd.read_csv('aynm_reverb_listings.csv')"
   ]
  },
  {
   "cell_type": "code",
   "execution_count": 9,
   "metadata": {},
   "outputs": [
    {
     "data": {
      "text/plain": [
       "Index(['state', 'new_listing', 'title', 'fr_title', 'condition', 'inventory',\n",
       "       'sku', 'make', 'model', 'description', 'fr_description', 'year',\n",
       "       'finish', 'price', 'product_type', 'subcategory_1', 'subcategory_2',\n",
       "       'product_image_1', 'product_image_2', 'product_image_3',\n",
       "       'product_image_4', 'product_image_5', 'product_image_6',\n",
       "       'product_image_7', 'product_image_8', 'product_image_9',\n",
       "       'product_image_10', 'product_image_11', 'product_image_12',\n",
       "       'product_image_13', 'product_image_14', 'product_image_15',\n",
       "       'product_image_16', 'product_image_17', 'product_image_18',\n",
       "       'product_image_19', 'product_image_20', 'product_image_21',\n",
       "       'product_image_22', 'product_image_23', 'product_image_24',\n",
       "       'product_image_25', 'video_url', 'offers_enabled', 'shipping_price',\n",
       "       'combine_and_save_shipping_price', 'local_pickup',\n",
       "       'shipping_profile_name', 'seller_cost', 'tax_exempt', 'upc',\n",
       "       'upc_does_not_apply', 'published_at', 'url', 'prop_65_warning',\n",
       "       'fr_prop_65_warning', 'id', 'auto_offer_percentage',\n",
       "       'auto_offer_shipping_price_override', 'bump_rate',\n",
       "       'bump_rate_recommendation', 'sold_as_is', 'country_of_origin',\n",
       "       'same_day_shipping_eligible', 'trigger_combine_and_save_shipping'],\n",
       "      dtype='object')"
      ]
     },
     "execution_count": 9,
     "metadata": {},
     "output_type": "execute_result"
    }
   ],
   "source": [
    "df.columns"
   ]
  },
  {
   "cell_type": "code",
   "execution_count": 25,
   "metadata": {},
   "outputs": [],
   "source": [
    "filtered_df = df.query(\"(state == 'live')  or (state == 'sold_out') or (state == 'ended')and (price > 200)\")"
   ]
  },
  {
   "cell_type": "code",
   "execution_count": 26,
   "metadata": {},
   "outputs": [],
   "source": [
    "filtered_df.to_csv('filtered_aynm_reverb_listings.csv', index = False)"
   ]
  },
  {
   "cell_type": "code",
   "execution_count": 27,
   "metadata": {},
   "outputs": [
    {
     "data": {
      "text/plain": [
       "(39, 65)"
      ]
     },
     "execution_count": 27,
     "metadata": {},
     "output_type": "execute_result"
    }
   ],
   "source": [
    "filtered_df.shape"
   ]
  }
 ],
 "metadata": {
  "kernelspec": {
   "display_name": "Python 3",
   "language": "python",
   "name": "python3"
  },
  "language_info": {
   "codemirror_mode": {
    "name": "ipython",
    "version": 3
   },
   "file_extension": ".py",
   "mimetype": "text/x-python",
   "name": "python",
   "nbconvert_exporter": "python",
   "pygments_lexer": "ipython3"
  },
  "orig_nbformat": 4,
  "vscode": {
   "interpreter": {
    "hash": "22483d8b1f965d2452c1b511f44a4bd7e49889fc595967579bd60fcd72e140d1"
   }
  }
 },
 "nbformat": 4,
 "nbformat_minor": 2
}
