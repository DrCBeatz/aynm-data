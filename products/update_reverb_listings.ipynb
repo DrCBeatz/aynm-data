{
 "cells": [
  {
   "cell_type": "code",
   "execution_count": 31,
   "metadata": {},
   "outputs": [],
   "source": [
    "import pandas as pd"
   ]
  },
  {
   "cell_type": "code",
   "execution_count": 32,
   "metadata": {},
   "outputs": [],
   "source": [
    "reverb_listings_csv = \"all-you-need-music-listings-export.csv\"\n",
    "shopify_inventory_csv = \"shopify_inventory.csv\"\n",
    "output_file = \"reverb_listings_updated.csv\""
   ]
  },
  {
   "cell_type": "code",
   "execution_count": 33,
   "metadata": {},
   "outputs": [],
   "source": [
    "reverb_listings = pd.read_csv(reverb_listings_csv)\n",
    "shopify_inventory = pd.read_csv(shopify_inventory_csv)"
   ]
  },
  {
   "cell_type": "code",
   "execution_count": 34,
   "metadata": {},
   "outputs": [
    {
     "data": {
      "text/plain": [
       "22             YTR2330 Openbox\n",
       "23             DR100-VSCH-USED\n",
       "85                    FS820 AB\n",
       "114                   FG800 BL\n",
       "296            0378000500-USED\n",
       "449                 0378152547\n",
       "465                 0144502513\n",
       "476                 2311100000\n",
       "550                      ALM20\n",
       "571     ST1108 - Luthier setup\n",
       "607                      ALM20\n",
       "685                    YTR2330\n",
       "686                     YCL255\n",
       "687                      YAS26\n",
       "689                   MIXCAST4\n",
       "844                    FGX800C\n",
       "1134                0970110232\n",
       "1218                 113900700\n",
       "1317                    V5SC44\n",
       "1326                   V3SKA44\n",
       "1406                  FG820 BL\n",
       "1410             PAC611HFM LAB\n",
       "1464                   P125A B\n",
       "1499                    CG162S\n",
       "2115                 LPA646-AW\n",
       "2208                     ALM20\n",
       "Name: SKU, dtype: object"
      ]
     },
     "execution_count": 34,
     "metadata": {},
     "output_type": "execute_result"
    }
   ],
   "source": [
    "matching_values = shopify_inventory[shopify_inventory['SKU'].isin(reverb_listings['sku'])]\n",
    "matching_values['SKU']"
   ]
  },
  {
   "cell_type": "code",
   "execution_count": 35,
   "metadata": {},
   "outputs": [
    {
     "data": {
      "text/plain": [
       "17    378200583\n",
       "19    144502513\n",
       "Name: sku, dtype: object"
      ]
     },
     "execution_count": 35,
     "metadata": {},
     "output_type": "execute_result"
    }
   ],
   "source": [
    "non_matching_values = reverb_listings[~reverb_listings['sku'].isin(shopify_inventory['SKU'])]\n",
    "non_matching_values['sku']"
   ]
  },
  {
   "cell_type": "code",
   "execution_count": 36,
   "metadata": {},
   "outputs": [],
   "source": [
    "SHOPIFY_INVENTORY_SEARCH_FIELD = 'SKU'\n",
    "REVERB_LISTINGS_SEARCH_FIELD = 'sku'\n",
    "SHOPIFY_INVENTORY_REPLACE_FIELD = 'On hand'\n",
    "REVERB_LISTINGS_REPLACE_FIELD = 'inventory'\n",
    "\n",
    "# try:\n",
    "#     for _, row in reverb_listings.iterrows():\n",
    "#             shopify_inventory.loc[shopify_inventory[SHOPIFY_INVENTORY_SEARCH_FIELD] == row[REVERB_LISTINGS_SEARCH_FIELD], SHOPIFY_INVENTORY_REPLACE_FIELD] = row[REVERB_LISTINGS_REPLACE_FIELD]\n",
    "\n",
    "try:\n",
    "    for _, row in shopify_inventory.iterrows():\n",
    "            reverb_listings.loc[reverb_listings[REVERB_LISTINGS_SEARCH_FIELD] == row[SHOPIFY_INVENTORY_SEARCH_FIELD], REVERB_LISTINGS_REPLACE_FIELD] = row[SHOPIFY_INVENTORY_REPLACE_FIELD]\n",
    "\n",
    "except:\n",
    "    raise RuntimeError(\"Couldn't update product list\")"
   ]
  },
  {
   "cell_type": "code",
   "execution_count": 37,
   "metadata": {},
   "outputs": [],
   "source": [
    "try:\n",
    "    reverb_listings.to_csv(output_file, index=False)\n",
    "except:\n",
    "    raise RuntimeError(\"Couldn't save csv file\")"
   ]
  },
  {
   "cell_type": "code",
   "execution_count": 38,
   "metadata": {},
   "outputs": [
    {
     "data": {
      "text/plain": [
       "0                      ALM20\n",
       "1                 0970110232\n",
       "2                   MIXCAST4\n",
       "3                     CG162S\n",
       "4                     V5SC44\n",
       "5                    FGX800C\n",
       "6     ST1108 - Luthier setup\n",
       "7                  LPA646-AW\n",
       "8              PAC611HFM LAB\n",
       "9                 0144502513\n",
       "10                0378152547\n",
       "11                   YTR2330\n",
       "12                    YCL255\n",
       "13                     YAS26\n",
       "14                   P125A B\n",
       "15                   V3SKA44\n",
       "16                  FG800 BL\n",
       "17                 378200583\n",
       "18                 113900700\n",
       "19                 144502513\n",
       "20                  FS820 AB\n",
       "21                  FG820 BL\n",
       "22                2311100000\n",
       "23           YTR2330 Openbox\n",
       "24           0378000500-USED\n",
       "25           DR100-VSCH-USED\n",
       "Name: sku, dtype: object"
      ]
     },
     "execution_count": 38,
     "metadata": {},
     "output_type": "execute_result"
    }
   ],
   "source": [
    "reverb_listings.sku"
   ]
  }
 ],
 "metadata": {
  "kernelspec": {
   "display_name": "Python 3",
   "language": "python",
   "name": "python3"
  },
  "language_info": {
   "codemirror_mode": {
    "name": "ipython",
    "version": 3
   },
   "file_extension": ".py",
   "mimetype": "text/x-python",
   "name": "python",
   "nbconvert_exporter": "python",
   "pygments_lexer": "ipython3",
   "version": "3.11.1 (tags/v3.11.1:a7a450f, Dec  6 2022, 19:58:39) [MSC v.1934 64 bit (AMD64)]"
  },
  "orig_nbformat": 4,
  "vscode": {
   "interpreter": {
    "hash": "22483d8b1f965d2452c1b511f44a4bd7e49889fc595967579bd60fcd72e140d1"
   }
  }
 },
 "nbformat": 4,
 "nbformat_minor": 2
}
