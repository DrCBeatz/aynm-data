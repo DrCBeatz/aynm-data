{
 "cells": [
  {
   "attachments": {},
   "cell_type": "markdown",
   "metadata": {},
   "source": [
    "# Update Reverb Listings\n",
    "\n",
    "Script to update product listings from Shopify to Reverb using csv files."
   ]
  },
  {
   "cell_type": "code",
   "execution_count": null,
   "metadata": {},
   "outputs": [],
   "source": [
    "import pandas as pd"
   ]
  },
  {
   "cell_type": "code",
   "execution_count": null,
   "metadata": {},
   "outputs": [],
   "source": [
    "reverb_listings_csv = \"all-you-need-music-listings-export.csv\"\n",
    "shopify_inventory_csv = \"shopify_inventory.csv\"\n",
    "output_file = \"reverb_listings_updated.csv\""
   ]
  },
  {
   "cell_type": "code",
   "execution_count": null,
   "metadata": {},
   "outputs": [],
   "source": [
    "reverb_listings = pd.read_csv(reverb_listings_csv)\n",
    "shopify_inventory = pd.read_csv(shopify_inventory_csv)"
   ]
  },
  {
   "cell_type": "code",
   "execution_count": null,
   "metadata": {},
   "outputs": [],
   "source": [
    "matching_values = shopify_inventory[shopify_inventory['SKU'].isin(reverb_listings['sku'])]\n",
    "matching_values['SKU']"
   ]
  },
  {
   "cell_type": "code",
   "execution_count": null,
   "metadata": {},
   "outputs": [],
   "source": [
    "non_matching_values = reverb_listings[~reverb_listings['sku'].isin(shopify_inventory['SKU'])]\n",
    "non_matching_values['sku']"
   ]
  },
  {
   "cell_type": "code",
   "execution_count": null,
   "metadata": {},
   "outputs": [],
   "source": [
    "SHOPIFY_INVENTORY_SEARCH_FIELD = 'SKU'\n",
    "REVERB_LISTINGS_SEARCH_FIELD = 'sku'\n",
    "SHOPIFY_INVENTORY_REPLACE_FIELD = 'On hand'\n",
    "REVERB_LISTINGS_REPLACE_FIELD = 'inventory'\n",
    "\n",
    "# try:\n",
    "#     for _, row in reverb_listings.iterrows():\n",
    "#             shopify_inventory.loc[shopify_inventory[SHOPIFY_INVENTORY_SEARCH_FIELD] == row[REVERB_LISTINGS_SEARCH_FIELD], SHOPIFY_INVENTORY_REPLACE_FIELD] = row[REVERB_LISTINGS_REPLACE_FIELD]\n",
    "\n",
    "try:\n",
    "    for _, row in shopify_inventory.iterrows():\n",
    "            reverb_listings.loc[reverb_listings[REVERB_LISTINGS_SEARCH_FIELD] == row[SHOPIFY_INVENTORY_SEARCH_FIELD], REVERB_LISTINGS_REPLACE_FIELD] = row[SHOPIFY_INVENTORY_REPLACE_FIELD]\n",
    "\n",
    "except:\n",
    "    raise RuntimeError(\"Couldn't update product list\")"
   ]
  },
  {
   "cell_type": "code",
   "execution_count": null,
   "metadata": {},
   "outputs": [],
   "source": [
    "try:\n",
    "    reverb_listings.to_csv(output_file, index=False)\n",
    "except:\n",
    "    raise RuntimeError(\"Couldn't save csv file\")"
   ]
  },
  {
   "cell_type": "code",
   "execution_count": null,
   "metadata": {},
   "outputs": [],
   "source": [
    "reverb_listings.sku"
   ]
  }
 ],
 "metadata": {
  "kernelspec": {
   "display_name": "Python 3",
   "language": "python",
   "name": "python3"
  },
  "language_info": {
   "codemirror_mode": {
    "name": "ipython",
    "version": 3
   },
   "file_extension": ".py",
   "mimetype": "text/x-python",
   "name": "python",
   "nbconvert_exporter": "python",
   "pygments_lexer": "ipython3"
  },
  "orig_nbformat": 4,
  "vscode": {
   "interpreter": {
    "hash": "22483d8b1f965d2452c1b511f44a4bd7e49889fc595967579bd60fcd72e140d1"
   }
  }
 },
 "nbformat": 4,
 "nbformat_minor": 2
}
