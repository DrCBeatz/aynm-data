{
 "cells": [
  {
   "attachments": {},
   "cell_type": "markdown",
   "metadata": {},
   "source": [
    "Script to make csv of Shopify products inactive"
   ]
  },
  {
   "cell_type": "code",
   "execution_count": 2,
   "metadata": {},
   "outputs": [
    {
     "name": "stdout",
     "output_type": "stream",
     "text": [
      "Output file created: casio_keyboard_products_output.csv\n"
     ]
    }
   ],
   "source": [
    "import pandas as pd\n",
    "import numpy as np\n",
    "import re\n",
    "\n",
    "product_list = 'casio_keyboard_products.csv'\n",
    "output_file = f'{product_list[:-4]}_output.csv'\n",
    "\n",
    "df = pd.read_csv(product_list, dtype={'Variant SKU':str, 'Variant Barcode':str})\n",
    "\n",
    "df['Title'] = np.where(df['Title'].notna(), \"Unavailable - \" + df['Title'],  df['Title'])\n",
    "\n",
    "df['Body (HTML)'] = np.where(df['Body (HTML)'].notna(), '<p><strong>Unfortunately this item is no longer available for purchase</strong></p> ' + df['Body (HTML)'],  df['Body (HTML)'])\n",
    "\n",
    "df.loc[df['Type'].notna(), 'Type'] = 'Unavailable'\n",
    "\n",
    "df.loc[df['Tags'].notna(), 'Tags'] = ''\n",
    "\n",
    "df.loc[df['Variant Inventory Policy'].notna(), 'Variant Inventory Policy'] = 'deny'\n",
    "\n",
    "try:\n",
    "    df = df.replace(np.nan, '')\n",
    "    df['Variant Barcode'] = df['Variant Barcode'].astype(str).apply(lambda x: re.sub( r'\\.0$', '', x) )\n",
    "    df['Variant SKU'] = df['Variant SKU'].astype(str).apply(lambda x: re.sub( r'\\.0$', '', x) )\n",
    "    df.to_csv(output_file, index=False)\n",
    "    print(f'Output file created: {output_file}')\n",
    "except:\n",
    "    raise RuntimeError(\"Couldn't save csv file\")"
   ]
  }
 ],
 "metadata": {
  "kernelspec": {
   "display_name": "Python 3",
   "language": "python",
   "name": "python3"
  },
  "language_info": {
   "codemirror_mode": {
    "name": "ipython",
    "version": 3
   },
   "file_extension": ".py",
   "mimetype": "text/x-python",
   "name": "python",
   "nbconvert_exporter": "python",
   "pygments_lexer": "ipython3",
   "version": "3.11.1 (tags/v3.11.1:a7a450f, Dec  6 2022, 19:58:39) [MSC v.1934 64 bit (AMD64)]"
  },
  "orig_nbformat": 4,
  "vscode": {
   "interpreter": {
    "hash": "22483d8b1f965d2452c1b511f44a4bd7e49889fc595967579bd60fcd72e140d1"
   }
  }
 },
 "nbformat": 4,
 "nbformat_minor": 2
}
