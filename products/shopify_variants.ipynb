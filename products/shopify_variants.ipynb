{
 "cells": [
  {
   "cell_type": "code",
   "execution_count": 36,
   "metadata": {},
   "outputs": [],
   "source": [
    "import pandas as pd\n",
    "import numpy as np\n"
   ]
  },
  {
   "cell_type": "code",
   "execution_count": 37,
   "metadata": {},
   "outputs": [],
   "source": [
    "# set options to display all columns with no maximum column width\n",
    "pd.set_option('display.max_columns', 200)\n",
    "pd.set_option('display.max_colwidth', None)"
   ]
  },
  {
   "cell_type": "code",
   "execution_count": 38,
   "metadata": {},
   "outputs": [],
   "source": [
    "# Read csv files; df1 is one product with variants; df2 is separate products to be combined into 1 product with variants\n",
    "variants_file = 'shopify_variants_template.csv'\n",
    "product_file = 'IXO22_products.csv' # example csv of individual product variants to be merged into 1 product\n",
    "output_file = 'IXO22_products_output.csv'\n",
    "\n",
    "df1 = pd.read_csv(variants_file)\n",
    "df2 = pd.read_csv(product_file)"
   ]
  },
  {
   "cell_type": "code",
   "execution_count": 39,
   "metadata": {},
   "outputs": [
    {
     "data": {
      "text/plain": [
       "['Handle',\n",
       " 'Option1 Value',\n",
       " 'Variant SKU',\n",
       " 'Variant Grams',\n",
       " 'Variant Inventory Tracker',\n",
       " 'Variant Inventory Policy',\n",
       " 'Variant Fulfillment Service',\n",
       " 'Variant Price',\n",
       " 'Variant Requires Shipping',\n",
       " 'Variant Taxable',\n",
       " 'Variant Barcode',\n",
       " 'Image Src',\n",
       " 'Image Position',\n",
       " 'Image Alt Text',\n",
       " 'Variant Image',\n",
       " 'Variant Weight Unit',\n",
       " 'Cost per item']"
      ]
     },
     "execution_count": 39,
     "metadata": {},
     "output_type": "execute_result"
    }
   ],
   "source": [
    "# Get non empty column names\n",
    "\n",
    "non_empty_columns = df1.iloc[1].notna()\n",
    "non_empty_column_names = non_empty_columns[non_empty_columns].index.tolist()\n",
    "non_empty_column_names"
   ]
  },
  {
   "cell_type": "code",
   "execution_count": 40,
   "metadata": {},
   "outputs": [
    {
     "data": {
      "text/plain": [
       "['Title',\n",
       " 'Body (HTML)',\n",
       " 'Vendor',\n",
       " 'Product Category',\n",
       " 'Type',\n",
       " 'Tags',\n",
       " 'Published',\n",
       " 'Option1 Name',\n",
       " 'Option2 Name',\n",
       " 'Option2 Value',\n",
       " 'Option3 Name',\n",
       " 'Option3 Value',\n",
       " 'Variant Compare At Price',\n",
       " 'Gift Card',\n",
       " 'SEO Title',\n",
       " 'SEO Description',\n",
       " 'Google Shopping / Google Product Category',\n",
       " 'Google Shopping / Gender',\n",
       " 'Google Shopping / Age Group',\n",
       " 'Google Shopping / MPN',\n",
       " 'Google Shopping / Condition',\n",
       " 'Google Shopping / Custom Product',\n",
       " 'Google Shopping / Custom Label 0',\n",
       " 'Google Shopping / Custom Label 1',\n",
       " 'Google Shopping / Custom Label 2',\n",
       " 'Google Shopping / Custom Label 3',\n",
       " 'Google Shopping / Custom Label 4',\n",
       " 'Variant Tax Code',\n",
       " 'Included / Canada',\n",
       " 'Price / Canada',\n",
       " 'Compare At Price / Canada',\n",
       " 'Included / United States',\n",
       " 'Price / United States',\n",
       " 'Compare At Price / United States',\n",
       " 'Status']"
      ]
     },
     "execution_count": 40,
     "metadata": {},
     "output_type": "execute_result"
    }
   ],
   "source": [
    "empty_columns = df1.iloc[1].isna()\n",
    "empty_column_names = empty_columns[empty_columns].index.tolist()\n",
    "empty_column_names"
   ]
  },
  {
   "cell_type": "code",
   "execution_count": 41,
   "metadata": {},
   "outputs": [
    {
     "data": {
      "text/plain": [
       "0    steinberg-ixo22-usb-c-audio-interface-black\n",
       "1    steinberg-ixo22-usb-c-audio-interface-white\n",
       "Name: Handle, dtype: object"
      ]
     },
     "execution_count": 41,
     "metadata": {},
     "output_type": "execute_result"
    }
   ],
   "source": [
    "df2['Handle']"
   ]
  },
  {
   "cell_type": "code",
   "execution_count": 42,
   "metadata": {},
   "outputs": [
    {
     "data": {
      "text/plain": [
       "37"
      ]
     },
     "execution_count": 42,
     "metadata": {},
     "output_type": "execute_result"
    }
   ],
   "source": [
    "len('steinberg-ixo22-usb-c-audio-interface')"
   ]
  },
  {
   "cell_type": "code",
   "execution_count": 43,
   "metadata": {},
   "outputs": [
    {
     "data": {
      "text/plain": [
       "0    steinberg-ixo22-usb-c-audio-interface\n",
       "1    steinberg-ixo22-usb-c-audio-interface\n",
       "Name: Handle, dtype: object"
      ]
     },
     "execution_count": 43,
     "metadata": {},
     "output_type": "execute_result"
    }
   ],
   "source": [
    "# remove variant names from Handle column\n",
    "\n",
    "title_length = 37\n",
    "\n",
    "df2['Handle'] = df2['Handle'].str[:title_length]\n",
    "\n",
    "df2['Handle']"
   ]
  },
  {
   "cell_type": "code",
   "execution_count": 44,
   "metadata": {},
   "outputs": [
    {
     "data": {
      "text/plain": [
       "0    Color:\n",
       "1       NaN\n",
       "Name: Option1 Name, dtype: object"
      ]
     },
     "execution_count": 44,
     "metadata": {},
     "output_type": "execute_result"
    }
   ],
   "source": [
    "# Set 'Option1 Name' for first row and make following rows empty\n",
    "\n",
    "option1_name = 'Color:'\n",
    "\n",
    "df2.loc[0, 'Option1 Name'] = option1_name\n",
    "\n",
    "for i in range(1, len(df2)):\n",
    "    df2.loc[i, 'Option1 Name'] = np.nan\n",
    "\n",
    "df2['Option1 Name']"
   ]
  },
  {
   "cell_type": "code",
   "execution_count": 45,
   "metadata": {},
   "outputs": [
    {
     "data": {
      "text/plain": [
       "0    Black\n",
       "1    White\n",
       "Name: Option1 Value, dtype: object"
      ]
     },
     "execution_count": 45,
     "metadata": {},
     "output_type": "execute_result"
    }
   ],
   "source": [
    "# Copy end of Title column to Option1 Value for title of variant\n",
    "\n",
    "df2['Option1 Value'] = df2['Title'].str[(title_length + 3):]\n",
    "\n",
    "df2['Option1 Value']"
   ]
  },
  {
   "cell_type": "code",
   "execution_count": 46,
   "metadata": {},
   "outputs": [
    {
     "data": {
      "text/plain": [
       "0    Steinberg IXO22 USB-C Audio Interface - Black\n",
       "1    Steinberg IXO22 USB-C Audio Interface - White\n",
       "Name: Image Alt Text, dtype: object"
      ]
     },
     "execution_count": 46,
     "metadata": {},
     "output_type": "execute_result"
    }
   ],
   "source": [
    "# Copy 'Title' column to 'Image Alt Text' column \n",
    "\n",
    "df2['Image Alt Text'] = df2['Title']\n",
    "df2['Image Alt Text']"
   ]
  },
  {
   "cell_type": "code",
   "execution_count": 47,
   "metadata": {},
   "outputs": [
    {
     "data": {
      "text/plain": [
       "0    Steinberg IXO22 USB-C Audio Interface\n",
       "1    Steinberg IXO22 USB-C Audio Interface\n",
       "Name: Title, dtype: object"
      ]
     },
     "execution_count": 47,
     "metadata": {},
     "output_type": "execute_result"
    }
   ],
   "source": [
    "# Remove variant name from title column\n",
    "\n",
    "df2['Title'] = df2['Title'].str[:title_length]\n",
    "df2['Title']"
   ]
  },
  {
   "cell_type": "code",
   "execution_count": 48,
   "metadata": {},
   "outputs": [
    {
     "data": {
      "text/plain": [
       "0    1\n",
       "1    2\n",
       "Name: Image Position, dtype: int64"
      ]
     },
     "execution_count": 48,
     "metadata": {},
     "output_type": "execute_result"
    }
   ],
   "source": [
    "# Make 'Image Position' number increase by 1 for each row after the first row \n",
    "\n",
    "for i in range(1, len(df2)):\n",
    "    df2.loc[i, ['Image Position']] += i\n",
    "\n",
    "df2['Image Position']"
   ]
  },
  {
   "cell_type": "code",
   "execution_count": 49,
   "metadata": {},
   "outputs": [
    {
     "data": {
      "text/plain": [
       "0                   https://cdn.shopify.com/s/files/1/0518/4507/1030/files/IXO22B.webp?v=1707852033\n",
       "1    https://cdn.shopify.com/s/files/1/0518/4507/1030/files/1706168816_IMG_2163784.jpg?v=1707854461\n",
       "Name: Variant Image, dtype: object"
      ]
     },
     "execution_count": 49,
     "metadata": {},
     "output_type": "execute_result"
    }
   ],
   "source": [
    "# Copy urls from 'Image Src' column to 'Variant Image' column\n",
    "\n",
    "df2['Variant Image'] = df2['Image Src']\n",
    "\n",
    "df2['Variant Image']"
   ]
  },
  {
   "cell_type": "code",
   "execution_count": 50,
   "metadata": {},
   "outputs": [],
   "source": [
    "for i in range(1, len(df2)):\n",
    "    for j in range(len(empty_column_names)):\n",
    "        df2.loc[i, empty_column_names[j]] = np.nan"
   ]
  },
  {
   "cell_type": "code",
   "execution_count": 51,
   "metadata": {},
   "outputs": [
    {
     "data": {
      "text/html": [
       "<div>\n",
       "<style scoped>\n",
       "    .dataframe tbody tr th:only-of-type {\n",
       "        vertical-align: middle;\n",
       "    }\n",
       "\n",
       "    .dataframe tbody tr th {\n",
       "        vertical-align: top;\n",
       "    }\n",
       "\n",
       "    .dataframe thead th {\n",
       "        text-align: right;\n",
       "    }\n",
       "</style>\n",
       "<table border=\"1\" class=\"dataframe\">\n",
       "  <thead>\n",
       "    <tr style=\"text-align: right;\">\n",
       "      <th></th>\n",
       "      <th>Handle</th>\n",
       "      <th>Title</th>\n",
       "      <th>Body (HTML)</th>\n",
       "      <th>Vendor</th>\n",
       "      <th>Product Category</th>\n",
       "      <th>Type</th>\n",
       "      <th>Tags</th>\n",
       "      <th>Published</th>\n",
       "      <th>Option1 Name</th>\n",
       "      <th>Option1 Value</th>\n",
       "      <th>Option2 Name</th>\n",
       "      <th>Option2 Value</th>\n",
       "      <th>Option3 Name</th>\n",
       "      <th>Option3 Value</th>\n",
       "      <th>Variant SKU</th>\n",
       "      <th>Variant Grams</th>\n",
       "      <th>Variant Inventory Tracker</th>\n",
       "      <th>Variant Inventory Policy</th>\n",
       "      <th>Variant Fulfillment Service</th>\n",
       "      <th>Variant Price</th>\n",
       "      <th>Variant Compare At Price</th>\n",
       "      <th>Variant Requires Shipping</th>\n",
       "      <th>Variant Taxable</th>\n",
       "      <th>Variant Barcode</th>\n",
       "      <th>Image Src</th>\n",
       "      <th>Image Position</th>\n",
       "      <th>Image Alt Text</th>\n",
       "      <th>Gift Card</th>\n",
       "      <th>SEO Title</th>\n",
       "      <th>SEO Description</th>\n",
       "      <th>Google Shopping / Google Product Category</th>\n",
       "      <th>Google Shopping / Gender</th>\n",
       "      <th>Google Shopping / Age Group</th>\n",
       "      <th>Google Shopping / MPN</th>\n",
       "      <th>Google Shopping / Condition</th>\n",
       "      <th>Google Shopping / Custom Product</th>\n",
       "      <th>Google Shopping / Custom Label 0</th>\n",
       "      <th>Google Shopping / Custom Label 1</th>\n",
       "      <th>Google Shopping / Custom Label 2</th>\n",
       "      <th>Google Shopping / Custom Label 3</th>\n",
       "      <th>Google Shopping / Custom Label 4</th>\n",
       "      <th>Variant Image</th>\n",
       "      <th>Variant Weight Unit</th>\n",
       "      <th>Variant Tax Code</th>\n",
       "      <th>Cost per item</th>\n",
       "      <th>Included / Canada</th>\n",
       "      <th>Price / Canada</th>\n",
       "      <th>Compare At Price / Canada</th>\n",
       "      <th>Included / United States</th>\n",
       "      <th>Price / United States</th>\n",
       "      <th>Compare At Price / United States</th>\n",
       "      <th>Status</th>\n",
       "    </tr>\n",
       "  </thead>\n",
       "  <tbody>\n",
       "    <tr>\n",
       "      <th>0</th>\n",
       "      <td>steinberg-ixo22-usb-c-audio-interface</td>\n",
       "      <td>Steinberg IXO22 USB-C Audio Interface</td>\n",
       "      <td>&lt;p&gt;Whether you are taking your first steps in music, want to stream your content online or record your family and friends having fun, the IXO22's compact and lightweight design, outstanding sound quality and ease of use make it the perfect recording companion for you, your computer and iOS device. The IXO22 is available in black and white versions.&lt;/p&gt;\\n\\n&lt;p&gt;For songwriting sessions&lt;br&gt;\\nThe lightweight IXO series is your portable, flexible friend for writing songs. 24-bit/192 kHz recording quality and state-of-the-art microphone preamps let you capture vocals and acoustic instruments in stunning detail, while Hi-Z / line inputs provide ample connectivity for electric guitar and keyboards. A headphone output with individual volume control provides latency-free monitoring and the included Cubase AI recording software completes a great-sounding production setup.&lt;/p&gt;\\n\\n&lt;p&gt;For live streaming&lt;br&gt;\\nStreaming and vlogging are great ways to reach new audiences, as well as entertaining your existing followers. The IXO22 is the ideal platform for you to go live online, its Loopback function letting you combine a live microphone signal with the audio from any recording and streaming both live. You can add a live voiceover or vocal to a backing track, or sing live with a musical instrument, with both signals merged and looped back to your internet broadcasting software.&lt;/p&gt;\\n\\n&lt;p&gt;For performing&lt;br&gt;\\nWhen you're performing live, you want to be sure that the audience hears your voice or instrument exactly as you intend. Take the IXO22 with you to the stage and it will deliver your performance in the best quality, its premium components and analog-digital conversion ensuring that the venue's audio system reproduces your sound with exceptional clarity and musicality.&lt;/p&gt;\\n\\n&lt;p&gt;Specifications&lt;br&gt;\\nGeneral&lt;br&gt;\\n- Connection Type: USB Type-C&lt;br&gt;\\n- Design: Desktop (1/3 19\", 1HU)&lt;br&gt;\\n- Casing: Full-metal casing&lt;br&gt;\\n- Power supply: USB Type-C bus-powered, External USB 5 V AC adaptor (not included)&lt;br&gt;\\n- AD/DA: 24 bit&lt;br&gt;\\n- Maximum sample rate: 192 kHz&lt;br&gt;\\n- Dynamic range input: 106 dB&lt;/p&gt;\\n\\n&lt;p&gt;Connectivity&lt;br&gt;\\n- Total number of inputs: 2&lt;br&gt;\\n- Total number of individual outputs: 2&lt;br&gt;\\n- Total number of Outputs: 2&lt;br&gt;\\n- Microphone preamp: IXO MIC-PRE&lt;br&gt;\\n- Microphone inputs: 2&lt;br&gt;\\n- Inputs with line level: 2&lt;br&gt;\\n- Inputs with HI-Z: 1&lt;br&gt;\\n- Analog inputs Combo: 2&lt;br&gt;\\n- Analog outputs TRS: 2&lt;br&gt;\\n- Phantom power: 2&lt;br&gt;\\n- Headphone: With dedicated volume control&lt;br&gt;\\n- Headphones outputs: 1&lt;/p&gt;\\n\\n&lt;p&gt;DSP-features&lt;br&gt;\\n- Monitoring: Hardware based zero latency monitoring (switchable)&lt;br&gt;\\n- Onboard DSP: Not included&lt;/p&gt;\\n\\n&lt;p&gt;Dimensions&lt;br&gt;\\n- Weight: 450 g&lt;br&gt;\\n- Width: 158 mm&lt;br&gt;\\n- Height: 47 mm&lt;br&gt;\\n- Depth: 102 mm&lt;/p&gt;\\n\\n&lt;p&gt;System requirements&lt;br&gt;\\n- Operating systems (Mac): macOS Sonoma, macOS Ventura, macOS Monterey, macOS Big Sur&lt;br&gt;\\n- Operating systems (Windows): 64-bit Windows 11 Version 22H2 (or higher), 64-bit Windows 10 Version 22H2 (or higher)&lt;br&gt;\\n- Operating systems (iOS): iPadOS 15, iPadOS 14, iPadOS 13, iOS 16, iOS 15, iOS 14&lt;br&gt;\\n- Apple siliconbased Mac: Native App&lt;br&gt;\\n- Port: USB Type-C, USB 2.0, USB 3.0&lt;br&gt;\\n- CPU minimum (Windows): Intel Core i-series multicore processor 2 GHz or faster, or AMD equivalent processor&lt;br&gt;\\n- RAM minimum: 4 GB&lt;br&gt;\\n- Hard disk free space: 50 MB&lt;br&gt;\\n- Display resolution recommended: 1280 x 800&lt;/p&gt;\\n\\n&lt;p&gt;Included Software&lt;br&gt;\\n- Cubase AI&lt;br&gt;\\n- Cubase LE&lt;/p&gt;</td>\n",
       "      <td>Steinberg</td>\n",
       "      <td>NaN</td>\n",
       "      <td>NaN</td>\n",
       "      <td>NaN</td>\n",
       "      <td>True</td>\n",
       "      <td>Color:</td>\n",
       "      <td>Black</td>\n",
       "      <td>NaN</td>\n",
       "      <td>NaN</td>\n",
       "      <td>NaN</td>\n",
       "      <td>NaN</td>\n",
       "      <td>IXO22 B</td>\n",
       "      <td>0.0</td>\n",
       "      <td>shopify</td>\n",
       "      <td>continue</td>\n",
       "      <td>manual</td>\n",
       "      <td>229.99</td>\n",
       "      <td>NaN</td>\n",
       "      <td>True</td>\n",
       "      <td>True</td>\n",
       "      <td>NaN</td>\n",
       "      <td>https://cdn.shopify.com/s/files/1/0518/4507/1030/files/IXO22B.webp?v=1707852033</td>\n",
       "      <td>1</td>\n",
       "      <td>Steinberg IXO22 USB-C Audio Interface - Black</td>\n",
       "      <td>False</td>\n",
       "      <td>NaN</td>\n",
       "      <td>NaN</td>\n",
       "      <td>NaN</td>\n",
       "      <td>NaN</td>\n",
       "      <td>NaN</td>\n",
       "      <td>NaN</td>\n",
       "      <td>NaN</td>\n",
       "      <td>NaN</td>\n",
       "      <td>NaN</td>\n",
       "      <td>NaN</td>\n",
       "      <td>NaN</td>\n",
       "      <td>NaN</td>\n",
       "      <td>NaN</td>\n",
       "      <td>https://cdn.shopify.com/s/files/1/0518/4507/1030/files/IXO22B.webp?v=1707852033</td>\n",
       "      <td>kg</td>\n",
       "      <td>NaN</td>\n",
       "      <td>NaN</td>\n",
       "      <td>True</td>\n",
       "      <td>NaN</td>\n",
       "      <td>NaN</td>\n",
       "      <td>True</td>\n",
       "      <td>NaN</td>\n",
       "      <td>NaN</td>\n",
       "      <td>active</td>\n",
       "    </tr>\n",
       "    <tr>\n",
       "      <th>1</th>\n",
       "      <td>steinberg-ixo22-usb-c-audio-interface</td>\n",
       "      <td>NaN</td>\n",
       "      <td>NaN</td>\n",
       "      <td>NaN</td>\n",
       "      <td>NaN</td>\n",
       "      <td>NaN</td>\n",
       "      <td>NaN</td>\n",
       "      <td>NaN</td>\n",
       "      <td>NaN</td>\n",
       "      <td>White</td>\n",
       "      <td>NaN</td>\n",
       "      <td>NaN</td>\n",
       "      <td>NaN</td>\n",
       "      <td>NaN</td>\n",
       "      <td>IXO22 W</td>\n",
       "      <td>0.0</td>\n",
       "      <td>shopify</td>\n",
       "      <td>continue</td>\n",
       "      <td>manual</td>\n",
       "      <td>229.99</td>\n",
       "      <td>NaN</td>\n",
       "      <td>True</td>\n",
       "      <td>True</td>\n",
       "      <td>NaN</td>\n",
       "      <td>https://cdn.shopify.com/s/files/1/0518/4507/1030/files/1706168816_IMG_2163784.jpg?v=1707854461</td>\n",
       "      <td>2</td>\n",
       "      <td>Steinberg IXO22 USB-C Audio Interface - White</td>\n",
       "      <td>NaN</td>\n",
       "      <td>NaN</td>\n",
       "      <td>NaN</td>\n",
       "      <td>NaN</td>\n",
       "      <td>NaN</td>\n",
       "      <td>NaN</td>\n",
       "      <td>NaN</td>\n",
       "      <td>NaN</td>\n",
       "      <td>NaN</td>\n",
       "      <td>NaN</td>\n",
       "      <td>NaN</td>\n",
       "      <td>NaN</td>\n",
       "      <td>NaN</td>\n",
       "      <td>NaN</td>\n",
       "      <td>https://cdn.shopify.com/s/files/1/0518/4507/1030/files/1706168816_IMG_2163784.jpg?v=1707854461</td>\n",
       "      <td>kg</td>\n",
       "      <td>NaN</td>\n",
       "      <td>NaN</td>\n",
       "      <td>NaN</td>\n",
       "      <td>NaN</td>\n",
       "      <td>NaN</td>\n",
       "      <td>NaN</td>\n",
       "      <td>NaN</td>\n",
       "      <td>NaN</td>\n",
       "      <td>NaN</td>\n",
       "    </tr>\n",
       "  </tbody>\n",
       "</table>\n",
       "</div>"
      ],
      "text/plain": [
       "                                  Handle  \\\n",
       "0  steinberg-ixo22-usb-c-audio-interface   \n",
       "1  steinberg-ixo22-usb-c-audio-interface   \n",
       "\n",
       "                                   Title  \\\n",
       "0  Steinberg IXO22 USB-C Audio Interface   \n",
       "1                                    NaN   \n",
       "\n",
       "                                                                                                                                                                                                                                                                                                                                                                                                                                                                                                                                                                                                                                                                                                                                                                                                                                                                                                                                                                                                                                                                                                                                                                                                                                                                                                                                                                                                                                                                                                                                                                                                                                                                                                                                                                                                                                                                                                                                                                                                                                                                                                                                                                                                                                                                                                                                                                                                                                                                                                                                                                                                                                                                                                                                                                                                                                                                                                                                                                                                                                                                                                                                                                                                                                                                                                                                                                                                                                                                                                                                                                                                  Body (HTML)  \\\n",
       "0  <p>Whether you are taking your first steps in music, want to stream your content online or record your family and friends having fun, the IXO22's compact and lightweight design, outstanding sound quality and ease of use make it the perfect recording companion for you, your computer and iOS device. The IXO22 is available in black and white versions.</p>\\n\\n<p>For songwriting sessions<br>\\nThe lightweight IXO series is your portable, flexible friend for writing songs. 24-bit/192 kHz recording quality and state-of-the-art microphone preamps let you capture vocals and acoustic instruments in stunning detail, while Hi-Z / line inputs provide ample connectivity for electric guitar and keyboards. A headphone output with individual volume control provides latency-free monitoring and the included Cubase AI recording software completes a great-sounding production setup.</p>\\n\\n<p>For live streaming<br>\\nStreaming and vlogging are great ways to reach new audiences, as well as entertaining your existing followers. The IXO22 is the ideal platform for you to go live online, its Loopback function letting you combine a live microphone signal with the audio from any recording and streaming both live. You can add a live voiceover or vocal to a backing track, or sing live with a musical instrument, with both signals merged and looped back to your internet broadcasting software.</p>\\n\\n<p>For performing<br>\\nWhen you're performing live, you want to be sure that the audience hears your voice or instrument exactly as you intend. Take the IXO22 with you to the stage and it will deliver your performance in the best quality, its premium components and analog-digital conversion ensuring that the venue's audio system reproduces your sound with exceptional clarity and musicality.</p>\\n\\n<p>Specifications<br>\\nGeneral<br>\\n- Connection Type: USB Type-C<br>\\n- Design: Desktop (1/3 19\", 1HU)<br>\\n- Casing: Full-metal casing<br>\\n- Power supply: USB Type-C bus-powered, External USB 5 V AC adaptor (not included)<br>\\n- AD/DA: 24 bit<br>\\n- Maximum sample rate: 192 kHz<br>\\n- Dynamic range input: 106 dB</p>\\n\\n<p>Connectivity<br>\\n- Total number of inputs: 2<br>\\n- Total number of individual outputs: 2<br>\\n- Total number of Outputs: 2<br>\\n- Microphone preamp: IXO MIC-PRE<br>\\n- Microphone inputs: 2<br>\\n- Inputs with line level: 2<br>\\n- Inputs with HI-Z: 1<br>\\n- Analog inputs Combo: 2<br>\\n- Analog outputs TRS: 2<br>\\n- Phantom power: 2<br>\\n- Headphone: With dedicated volume control<br>\\n- Headphones outputs: 1</p>\\n\\n<p>DSP-features<br>\\n- Monitoring: Hardware based zero latency monitoring (switchable)<br>\\n- Onboard DSP: Not included</p>\\n\\n<p>Dimensions<br>\\n- Weight: 450 g<br>\\n- Width: 158 mm<br>\\n- Height: 47 mm<br>\\n- Depth: 102 mm</p>\\n\\n<p>System requirements<br>\\n- Operating systems (Mac): macOS Sonoma, macOS Ventura, macOS Monterey, macOS Big Sur<br>\\n- Operating systems (Windows): 64-bit Windows 11 Version 22H2 (or higher), 64-bit Windows 10 Version 22H2 (or higher)<br>\\n- Operating systems (iOS): iPadOS 15, iPadOS 14, iPadOS 13, iOS 16, iOS 15, iOS 14<br>\\n- Apple siliconbased Mac: Native App<br>\\n- Port: USB Type-C, USB 2.0, USB 3.0<br>\\n- CPU minimum (Windows): Intel Core i-series multicore processor 2 GHz or faster, or AMD equivalent processor<br>\\n- RAM minimum: 4 GB<br>\\n- Hard disk free space: 50 MB<br>\\n- Display resolution recommended: 1280 x 800</p>\\n\\n<p>Included Software<br>\\n- Cubase AI<br>\\n- Cubase LE</p>   \n",
       "1                                                                                                                                                                                                                                                                                                                                                                                                                                                                                                                                                                                                                                                                                                                                                                                                                                                                                                                                                                                                                                                                                                                                                                                                                                                                                                                                                                                                                                                                                                                                                                                                                                                                                                                                                                                                                                                                                                                                                                                                                                                                                                                                                                                                                                                                                                                                                                                                                                                                                                                                                                                                                                                                                                                                                                                                                                                                                                                                                                                                                                                                                                                                                                                                                                                                                                                                                                                                                                                                                                                                                                                                         NaN   \n",
       "\n",
       "      Vendor  Product Category  Type  Tags Published Option1 Name  \\\n",
       "0  Steinberg               NaN   NaN   NaN      True       Color:   \n",
       "1        NaN               NaN   NaN   NaN       NaN          NaN   \n",
       "\n",
       "  Option1 Value  Option2 Name  Option2 Value  Option3 Name  Option3 Value  \\\n",
       "0         Black           NaN            NaN           NaN            NaN   \n",
       "1         White           NaN            NaN           NaN            NaN   \n",
       "\n",
       "  Variant SKU  Variant Grams Variant Inventory Tracker  \\\n",
       "0     IXO22 B            0.0                   shopify   \n",
       "1     IXO22 W            0.0                   shopify   \n",
       "\n",
       "  Variant Inventory Policy Variant Fulfillment Service  Variant Price  \\\n",
       "0                 continue                      manual         229.99   \n",
       "1                 continue                      manual         229.99   \n",
       "\n",
       "   Variant Compare At Price  Variant Requires Shipping  Variant Taxable  \\\n",
       "0                       NaN                       True             True   \n",
       "1                       NaN                       True             True   \n",
       "\n",
       "   Variant Barcode  \\\n",
       "0              NaN   \n",
       "1              NaN   \n",
       "\n",
       "                                                                                        Image Src  \\\n",
       "0                 https://cdn.shopify.com/s/files/1/0518/4507/1030/files/IXO22B.webp?v=1707852033   \n",
       "1  https://cdn.shopify.com/s/files/1/0518/4507/1030/files/1706168816_IMG_2163784.jpg?v=1707854461   \n",
       "\n",
       "   Image Position                                 Image Alt Text Gift Card  \\\n",
       "0               1  Steinberg IXO22 USB-C Audio Interface - Black     False   \n",
       "1               2  Steinberg IXO22 USB-C Audio Interface - White       NaN   \n",
       "\n",
       "   SEO Title  SEO Description  Google Shopping / Google Product Category  \\\n",
       "0        NaN              NaN                                        NaN   \n",
       "1        NaN              NaN                                        NaN   \n",
       "\n",
       "   Google Shopping / Gender  Google Shopping / Age Group  \\\n",
       "0                       NaN                          NaN   \n",
       "1                       NaN                          NaN   \n",
       "\n",
       "   Google Shopping / MPN  Google Shopping / Condition  \\\n",
       "0                    NaN                          NaN   \n",
       "1                    NaN                          NaN   \n",
       "\n",
       "   Google Shopping / Custom Product  Google Shopping / Custom Label 0  \\\n",
       "0                               NaN                               NaN   \n",
       "1                               NaN                               NaN   \n",
       "\n",
       "   Google Shopping / Custom Label 1  Google Shopping / Custom Label 2  \\\n",
       "0                               NaN                               NaN   \n",
       "1                               NaN                               NaN   \n",
       "\n",
       "   Google Shopping / Custom Label 3  Google Shopping / Custom Label 4  \\\n",
       "0                               NaN                               NaN   \n",
       "1                               NaN                               NaN   \n",
       "\n",
       "                                                                                    Variant Image  \\\n",
       "0                 https://cdn.shopify.com/s/files/1/0518/4507/1030/files/IXO22B.webp?v=1707852033   \n",
       "1  https://cdn.shopify.com/s/files/1/0518/4507/1030/files/1706168816_IMG_2163784.jpg?v=1707854461   \n",
       "\n",
       "  Variant Weight Unit  Variant Tax Code  Cost per item Included / Canada  \\\n",
       "0                  kg               NaN            NaN              True   \n",
       "1                  kg               NaN            NaN               NaN   \n",
       "\n",
       "   Price / Canada  Compare At Price / Canada Included / United States  \\\n",
       "0             NaN                        NaN                     True   \n",
       "1             NaN                        NaN                      NaN   \n",
       "\n",
       "   Price / United States  Compare At Price / United States  Status  \n",
       "0                    NaN                               NaN  active  \n",
       "1                    NaN                               NaN     NaN  "
      ]
     },
     "execution_count": 51,
     "metadata": {},
     "output_type": "execute_result"
    }
   ],
   "source": [
    "df2.head()"
   ]
  },
  {
   "cell_type": "code",
   "execution_count": 52,
   "metadata": {},
   "outputs": [],
   "source": [
    "df2.to_csv(output_file, index=False)"
   ]
  }
 ],
 "metadata": {
  "kernelspec": {
   "display_name": "Python 3",
   "language": "python",
   "name": "python3"
  },
  "language_info": {
   "codemirror_mode": {
    "name": "ipython",
    "version": 3
   },
   "file_extension": ".py",
   "mimetype": "text/x-python",
   "name": "python",
   "nbconvert_exporter": "python",
   "pygments_lexer": "ipython3",
   "version": "3.11.1 (tags/v3.11.1:a7a450f, Dec  6 2022, 19:58:39) [MSC v.1934 64 bit (AMD64)]"
  },
  "orig_nbformat": 4,
  "vscode": {
   "interpreter": {
    "hash": "22483d8b1f965d2452c1b511f44a4bd7e49889fc595967579bd60fcd72e140d1"
   }
  }
 },
 "nbformat": 4,
 "nbformat_minor": 2
}
