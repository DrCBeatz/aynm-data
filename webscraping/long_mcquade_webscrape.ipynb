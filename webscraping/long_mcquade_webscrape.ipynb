{
 "cells": [
  {
   "attachments": {},
   "cell_type": "markdown",
   "metadata": {},
   "source": [
    "# Long & McQuade Webscrape\n",
    "\n",
    "Script for webscraping product information from Long & McQuade website and saving as CSV format suitable for importing into Shopify"
   ]
  },
  {
   "cell_type": "code",
   "execution_count": null,
   "metadata": {},
   "outputs": [],
   "source": [
    "# declare constants\n",
    "\n",
    "WAIT_TIME = 5 # seconds\n",
    "ALLOW, BLOCK = 1, 2 # for chrome experimental options\n",
    "HEADLESS = False"
   ]
  },
  {
   "cell_type": "code",
   "execution_count": null,
   "metadata": {},
   "outputs": [],
   "source": [
    "from selenium import webdriver\n",
    "from selenium.webdriver.common.keys import Keys\n",
    "from selenium.webdriver.support import expected_conditions as EC\n",
    "from selenium.webdriver.common.by import By\n",
    "from selenium.webdriver.support.wait import WebDriverWait\n",
    "from selenium.webdriver.chrome.service import Service\n",
    "from selenium.webdriver import ActionChains\n",
    "\n",
    "chrome_options = webdriver.ChromeOptions()\n",
    "chrome_options.add_argument(\"--no-sandbox\")\n",
    "chrome_options.add_argument(\"--disable-infobars\")\n",
    "if HEADLESS: \n",
    "  chrome_options.add_argument(\"--headless\")\n",
    "  \n",
    "chrome_options.add_argument(\"--disable-gpu\")\n",
    "chrome_options.add_experimental_option(\"prefs\", { \n",
    "    \"profile.default_content_setting_values.media_stream_mic\": BLOCK,     \n",
    "    \"profile.default_content_setting_values.media_stream_camera\": BLOCK,  \n",
    "    \"profile.default_content_setting_values.geolocation\": BLOCK,          \n",
    "    \"profile.default_content_setting_values.notifications\": BLOCK         \n",
    "  })\n",
    "\n",
    "import pandas as pd\n",
    "from time import sleep"
   ]
  },
  {
   "cell_type": "code",
   "execution_count": null,
   "metadata": {},
   "outputs": [],
   "source": [
    "# default input & output file names\n",
    "input_file = ''\n",
    "output_file = 'AG03MK2.csv'\n",
    "url = 'https://www.long-mcquade.com/'\n"
   ]
  },
  {
   "cell_type": "code",
   "execution_count": null,
   "metadata": {},
   "outputs": [],
   "source": [
    "# create empty dataframe\n",
    "df = pd.DataFrame(columns=['Variant SKU', 'Variant Price' ])\n",
    "\n",
    "if input_file:\n",
    "    product_df = pd.read_csv(input_file)\n",
    "    product_list = product_df['Product Model'].tolist()\n",
    "else:\n",
    "    product_list = [ # if input_file is not specified, products can be added to product_list array to be scraped\n",
    "        'AG03MK2 B',\n",
    "    ]"
   ]
  },
  {
   "cell_type": "code",
   "execution_count": null,
   "metadata": {},
   "outputs": [],
   "source": [
    "print(f'Scraping data for {len(product_list)} products:')\n",
    "for product in product_list:\n",
    "    print(f'\\t{product}')"
   ]
  },
  {
   "cell_type": "code",
   "execution_count": null,
   "metadata": {},
   "outputs": [],
   "source": [
    "service = Service()\n",
    "driver = webdriver.Chrome(service=service, options=chrome_options)\n",
    "print(f'Opening {url} in Chrome browser...')\n",
    "driver.get(url)\n",
    "products_not_found = 0\n",
    "products_not_found_list = []"
   ]
  },
  {
   "cell_type": "markdown",
   "metadata": {},
   "source": []
  },
  {
   "cell_type": "code",
   "execution_count": null,
   "metadata": {},
   "outputs": [],
   "source": [
    "for product_model in product_list:\n",
    "    actions = ActionChains(driver)\n",
    "    # search for product model\n",
    "    search_input = WebDriverWait(driver, WAIT_TIME).until(EC.element_to_be_clickable((By.CSS_SELECTOR, 'input[id=\"SearchTxt\"]')))\n",
    "    search_input.clear()\n",
    "    search_input.send_keys(product_model)\n",
    "    search_input.send_keys(Keys.RETURN)\n",
    "\n",
    "    # click product link\n",
    "    try:\n",
    "        product_link = WebDriverWait(driver, WAIT_TIME).until(EC.element_to_be_clickable((By.XPATH, f\"//p[text()='Model: {product_model}']\")))\n",
    "        actions.move_to_element(product_link).perform() # scoll window to element to be clicked\n",
    "        product_link.click()\n",
    "    except:\n",
    "        print(f'Product {product_model} not found')\n",
    "        products_not_found += 1\n",
    "        products_not_found_list.append(product_model)\n",
    "        continue\n",
    "    print(f'Product model: {product_model}')\n",
    "    \n",
    "    # Get product price\n",
    "    try:\n",
    "        product_price = WebDriverWait(driver, WAIT_TIME).until(EC.element_to_be_clickable((By.CSS_SELECTOR, \"span[id='product-regular-price']\"))).text\n",
    "        print(f'Product price: {product_price}\\n')\n",
    "    except:\n",
    "        product_price = 0\n",
    "        print('Product price not found')\n",
    "    \n",
    "    try:\n",
    "        product_brand = WebDriverWait(driver, WAIT_TIME).until(EC.element_to_be_clickable((By.CSS_SELECTOR, \"span[id='product-brand']\"))).text\n",
    "        print(f'Product brand: {product_brand}\\n')\n",
    "    except:\n",
    "        product_brand = ''\n",
    "        print('Product brand not found')\n",
    "    \n",
    "    try:\n",
    "        product_title = WebDriverWait(driver, WAIT_TIME).until(EC.element_to_be_clickable((By.CSS_SELECTOR, \"span[id='product-header-name']\"))).text\n",
    "        print(f'Product title: {product_title}\\n')\n",
    "    except:\n",
    "        product_title = ''\n",
    "        print('Product title not found')\n",
    "    \n",
    "    try:\n",
    "        product_description = WebDriverWait(driver, WAIT_TIME).until(EC.element_to_be_clickable((By.CSS_SELECTOR, \"div[id='Description-tab']\"))).text\n",
    "        print(f'Product description: {product_description}\\n')\n",
    "    except:\n",
    "        product_description = ''\n",
    "        print('Product description not found')\n",
    "  \n",
    "    try:\n",
    "        product_image = WebDriverWait(driver, WAIT_TIME).until(EC.element_to_be_clickable((By.CSS_SELECTOR, \"img[id='product-image']\"))).get_attribute(\"src\")\n",
    "        print(f'Product image: {product_image}\\n')\n",
    "    except:\n",
    "        product_image = ''\n",
    "        print('Product image not found')\n",
    "  \n",
    "    \n",
    "    # add row to dataframe\n",
    "    row = {\n",
    "        'Variant SKU': product_model, \n",
    "        'Vendor': product_brand, \n",
    "        'Title': f'{product_brand} {product_title}', \n",
    "        'Body (HTML)': product_description, \n",
    "        'Product Image': product_image, \n",
    "        'Variant Price': product_price, \n",
    "        'Variant Inventory Tracker': 'shopify', \n",
    "        'Variant Inventory Policy': 'continue',\n",
    "        }\n",
    "    df_new_row = pd.DataFrame([row])\n",
    "    df = pd.concat([df, df_new_row], axis=0, ignore_index=True)"
   ]
  },
  {
   "cell_type": "code",
   "execution_count": null,
   "metadata": {},
   "outputs": [],
   "source": [
    "# save dataframe to CSV file\n",
    "df.to_csv(output_file, index=False)\n",
    "print('Results saved to CSV file\\n')\n",
    "\n",
    "print('Results:')\n",
    "print(df)\n",
    "\n",
    "print(f'Number of products found: {len(df)}\\n')\n",
    "print(f'Number of products not found: {products_not_found}\\n')\n",
    "if products_not_found > 0:\n",
    "    print('Products not found:')\n",
    "    for product in products_not_found_list:\n",
    "        print(f'\\t{product}')\n",
    "\n",
    "# close browser\n",
    "driver.close()\n",
    "driver.quit()"
   ]
  }
 ],
 "metadata": {
  "kernelspec": {
   "display_name": "Python 3",
   "language": "python",
   "name": "python3"
  },
  "language_info": {
   "codemirror_mode": {
    "name": "ipython",
    "version": 3
   },
   "file_extension": ".py",
   "mimetype": "text/x-python",
   "name": "python",
   "nbconvert_exporter": "python",
   "pygments_lexer": "ipython3",
   "version": "3.11.1"
  },
  "orig_nbformat": 4,
  "vscode": {
   "interpreter": {
    "hash": "22483d8b1f965d2452c1b511f44a4bd7e49889fc595967579bd60fcd72e140d1"
   }
  }
 },
 "nbformat": 4,
 "nbformat_minor": 2
}
